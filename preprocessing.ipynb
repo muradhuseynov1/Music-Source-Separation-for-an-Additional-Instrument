{
 "cells": [
  {
   "cell_type": "code",
   "execution_count": 7,
   "metadata": {},
   "outputs": [],
   "source": [
    "import os\n",
    "import yaml\n",
    "import shutil\n",
    "from pathlib import Path\n",
    "import random\n",
    "import soundfile as sf\n",
    "import numpy as np"
   ]
  },
  {
   "cell_type": "code",
   "execution_count": 8,
   "metadata": {},
   "outputs": [],
   "source": [
    "\n",
    "def organize_tracks(base_dir):\n",
    "    track_dirs = [d for d in os.listdir(base_dir) if d.startswith(\"Track\") and os.path.isdir(os.path.join(base_dir, d))]\n",
    "\n",
    "    for track_dir in track_dirs:\n",
    "        metadata_path = os.path.join(base_dir, track_dir, \"metadata.yaml\")\n",
    "        stems_dir = os.path.join(base_dir, track_dir, \"stems\")\n",
    "\n",
    "        if not os.path.exists(metadata_path) or not os.path.exists(stems_dir):\n",
    "            continue\n",
    "\n",
    "        with open(metadata_path, 'r') as f:\n",
    "            metadata = yaml.safe_load(f)\n",
    "\n",
    "        for stem_key, stem_data in metadata.get('stems', {}).items():\n",
    "            inst_class = stem_data.get('inst_class', \"Unknown\")\n",
    "\n",
    "            inst_folder = os.path.join(base_dir, inst_class)\n",
    "            os.makedirs(inst_folder, exist_ok=True)\n",
    "\n",
    "            stem_file_name = f\"{stem_key}.wav\"\n",
    "            stem_file_path = os.path.join(stems_dir, stem_file_name)\n",
    "\n",
    "            if os.path.exists(stem_file_path):\n",
    "                target_file_name = f\"{track_dir}_{stem_file_name}\"\n",
    "                target_file_path = os.path.join(inst_folder, target_file_name)\n",
    "\n",
    "                shutil.copy2(stem_file_path, target_file_path)\n"
   ]
  },
  {
   "cell_type": "code",
   "execution_count": 6,
   "metadata": {},
   "outputs": [],
   "source": [
    "folder = '/Users/francesco/Desktop/babyslakh_16k'\n",
    "organize_tracks(folder)"
   ]
  },
  {
   "cell_type": "code",
   "execution_count": 9,
   "metadata": {},
   "outputs": [],
   "source": [
    "def create_mixture_and_save(base_dir):\n",
    "    track_dirs = [d for d in os.listdir(base_dir) if d.startswith(\"Track\") and os.path.isdir(os.path.join(base_dir, d))]\n",
    "\n",
    "    for track_dir in track_dirs:\n",
    "        metadata_path = os.path.join(base_dir, track_dir, \"metadata.yaml\")\n",
    "        stems_dir = os.path.join(base_dir, track_dir, \"stems\")\n",
    "\n",
    "        if not os.path.exists(metadata_path) or not os.path.exists(stems_dir):\n",
    "            continue\n",
    "\n",
    "        with open(metadata_path, 'r') as f:\n",
    "            metadata = yaml.safe_load(f)\n",
    "\n",
    "        mixture = None\n",
    "        sample_rate = None\n",
    "\n",
    "        for stem_key, stem_data in metadata.get('stems', {}).items():\n",
    "            inst_class = stem_data.get('inst_class', \"Unknown\")\n",
    "            if inst_class in ['Bass', 'Vocals', 'Drums']:\n",
    "                continue\n",
    "\n",
    "            stem_file_name = f\"{stem_key}.wav\"\n",
    "            stem_file_path = os.path.join(stems_dir, stem_file_name)\n",
    "\n",
    "            if os.path.exists(stem_file_path):\n",
    "                data, sr = sf.read(stem_file_path)\n",
    "                if mixture is None:\n",
    "                    mixture = data\n",
    "                    sample_rate = sr\n",
    "                else:\n",
    "                    mixture = mixture[:len(data)] + data[:len(mixture)]\n",
    "\n",
    "        if mixture is not None:\n",
    "            max_val = np.max(np.abs(mixture))\n",
    "            if max_val > 0:\n",
    "                mixture = mixture / max_val\n",
    "\n",
    "            total_samples = len(mixture)\n",
    "            six_sec_samples = sample_rate * 6\n",
    "            if total_samples > six_sec_samples:\n",
    "                start_idx = random.randint(0, total_samples - six_sec_samples)\n",
    "                mixture = mixture[start_idx:start_idx + six_sec_samples]\n",
    "                \n",
    "            output_path = os.path.join(base_dir, track_dir, \"audio.wav\")\n",
    "            sf.write(output_path, mixture, sample_rate)"
   ]
  },
  {
   "cell_type": "code",
   "execution_count": 10,
   "metadata": {},
   "outputs": [],
   "source": [
    "create_mixture_and_save(folder)"
   ]
  }
 ],
 "metadata": {
  "kernelspec": {
   "display_name": "base",
   "language": "python",
   "name": "python3"
  },
  "language_info": {
   "codemirror_mode": {
    "name": "ipython",
    "version": 3
   },
   "file_extension": ".py",
   "mimetype": "text/x-python",
   "name": "python",
   "nbconvert_exporter": "python",
   "pygments_lexer": "ipython3",
   "version": "3.10.14"
  }
 },
 "nbformat": 4,
 "nbformat_minor": 2
}
